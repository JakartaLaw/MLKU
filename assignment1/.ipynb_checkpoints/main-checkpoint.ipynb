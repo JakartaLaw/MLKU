{
 "cells": [
  {
   "cell_type": "code",
   "execution_count": 1,
   "metadata": {},
   "outputs": [],
   "source": [
    "import pandas as pd\n",
    "import numpy as np\n",
    "import matplotlib.pyplot as plt\n",
    "\n",
    "# modules made for assignment\n",
    "from modules import LoadData\n",
    "from modules import ShowImage\n",
    "from modules import label_split\n",
    "#from modules import kNearestClassifier\n",
    "from modules import evaluation_kNearest\n",
    "from modules import BinaryRespons\n",
    "\n",
    "%matplotlib inline"
   ]
  },
  {
   "cell_type": "code",
   "execution_count": 39,
   "metadata": {},
   "outputs": [],
   "source": [
    "def kNearestClassifier(x,y,value_to_predict,k=1):\n",
    "\n",
    "    ones = np.ones(x.shape[0])\n",
    "    data = np.array(x)\n",
    "\n",
    "    subtractor = np.outer(ones,value_to_predict)\n",
    "\n",
    "    matrix = data - subtractor\n",
    "\n",
    "    dist_before_sq = np.diag(np.inner(matrix,matrix)) # distance before squareing\n",
    "    dist = np.sqrt(dist_before_sq) # all distances\n",
    "\n",
    "    sorter = np.argsort(dist)\n",
    "    #print(sorter.dtype)\n",
    "    print(y.shape)\n",
    "    print(x.shape)\n",
    "    \n",
    "    sorted_y = y[sorter] # labels sorted according to distance\n",
    "    \n",
    "    print(sorted_y.dtype)\n",
    "    counts = np.bincount(sorted_y[:k])\n",
    "    return np.argmax(counts)"
   ]
  },
  {
   "cell_type": "code",
   "execution_count": 3,
   "metadata": {
    "collapsed": true
   },
   "outputs": [],
   "source": [
    "#LoadData.MNIST() #Data is cleaned to proper format"
   ]
  },
  {
   "cell_type": "code",
   "execution_count": 17,
   "metadata": {},
   "outputs": [],
   "source": [
    "df_train = pd.read_csv('MNIST_df_train.csv')\n",
    "df_test = pd.read_csv('MNIST_df_test.csv')"
   ]
  },
  {
   "cell_type": "code",
   "execution_count": 18,
   "metadata": {},
   "outputs": [],
   "source": [
    "df_train.labs = df_train.labs.astype('int64')\n",
    "df_test.labs = df_test.labs.astype('int64')"
   ]
  },
  {
   "cell_type": "code",
   "execution_count": 19,
   "metadata": {
    "collapsed": true
   },
   "outputs": [],
   "source": [
    "df_train = BinaryRespons(df_train,0,1)\n",
    "df_test = BinaryRespons(df_test,0,1)"
   ]
  },
  {
   "cell_type": "code",
   "execution_count": 20,
   "metadata": {},
   "outputs": [
    {
     "data": {
      "image/png": "[encoded data removed]",
      "text/plain": [
       "<matplotlib.figure.Figure at 0x110345550>"
      ]
     },
     "metadata": {},
     "output_type": "display_data"
    }
   ],
   "source": [
    "ShowImage(df_train, 2)"
   ]
  },
  {
   "cell_type": "code",
   "execution_count": 21,
   "metadata": {},
   "outputs": [
    {
     "data": {
      "image/png": "[encoded data removed]",
      "text/plain": [
       "<matplotlib.figure.Figure at 0x110314588>"
      ]
     },
     "metadata": {},
     "output_type": "display_data"
    }
   ],
   "source": [
    "ShowImage(df_test, 3)"
   ]
  },
  {
   "cell_type": "code",
   "execution_count": 55,
   "metadata": {},
   "outputs": [],
   "source": [
    "def DevelopData(df_input, val_a, val_b, num_rows): \n",
    "    df = df_input.loc[(df_input['labs']==val_a)|(df_input['labs']==val_b)]\n",
    "    df = df.iloc[0:num_rows]\n",
    "    return df\n",
    "    \n",
    "df_train = DevelopData(df_train, val_a = 0, val_b = 1, num_rows=10)\n",
    "df_test = DevelopData(df_test, val_a = 0, val_b = 1, num_rows=10)"
   ]
  },
  {
   "cell_type": "code",
   "execution_count": 66,
   "metadata": {},
   "outputs": [
    {
     "data": {
      "text/plain": [
       "(     f0   f1   f2   f3   f4   f5   f6   f7   f8   f9  ...   f775  f776  f777  \\\n",
       " 1   0.0  0.0  0.0  0.0  0.0  0.0  0.0  0.0  0.0  0.0  ...    0.0   0.0   0.0   \n",
       " 3   0.0  0.0  0.0  0.0  0.0  0.0  0.0  0.0  0.0  0.0  ...    0.0   0.0   0.0   \n",
       " 6   0.0  0.0  0.0  0.0  0.0  0.0  0.0  0.0  0.0  0.0  ...    0.0   0.0   0.0   \n",
       " 8   0.0  0.0  0.0  0.0  0.0  0.0  0.0  0.0  0.0  0.0  ...    0.0   0.0   0.0   \n",
       " 14  0.0  0.0  0.0  0.0  0.0  0.0  0.0  0.0  0.0  0.0  ...    0.0   0.0   0.0   \n",
       " 21  0.0  0.0  0.0  0.0  0.0  0.0  0.0  0.0  0.0  0.0  ...    0.0   0.0   0.0   \n",
       " 23  0.0  0.0  0.0  0.0  0.0  0.0  0.0  0.0  0.0  0.0  ...    0.0   0.0   0.0   \n",
       " 24  0.0  0.0  0.0  0.0  0.0  0.0  0.0  0.0  0.0  0.0  ...    0.0   0.0   0.0   \n",
       " \n",
       "     f778  f779  f780  f781  f782  f783  labs  \n",
       " 1    0.0   0.0   0.0   0.0   0.0   0.0     0  \n",
       " 3    0.0   0.0   0.0   0.0   0.0   0.0     1  \n",
       " 6    0.0   0.0   0.0   0.0   0.0   0.0     1  \n",
       " 8    0.0   0.0   0.0   0.0   0.0   0.0     1  \n",
       " 14   0.0   0.0   0.0   0.0   0.0   0.0     1  \n",
       " 21   0.0   0.0   0.0   0.0   0.0   0.0     0  \n",
       " 23   0.0   0.0   0.0   0.0   0.0   0.0     1  \n",
       " 24   0.0   0.0   0.0   0.0   0.0   0.0     1  \n",
       " \n",
       " [8 rows x 785 columns],\n",
       "      f0   f1   f2   f3   f4   f5   f6   f7   f8   f9  ...   f775  f776  f777  \\\n",
       " 34  0.0  0.0  0.0  0.0  0.0  0.0  0.0  0.0  0.0  0.0  ...    0.0   0.0   0.0   \n",
       " 37  0.0  0.0  0.0  0.0  0.0  0.0  0.0  0.0  0.0  0.0  ...    0.0   0.0   0.0   \n",
       " \n",
       "     f778  f779  f780  f781  f782  f783  labs  \n",
       " 34   0.0   0.0   0.0   0.0   0.0   0.0     0  \n",
       " 37   0.0   0.0   0.0   0.0   0.0   0.0     0  \n",
       " \n",
       " [2 rows x 785 columns])"
      ]
     },
     "execution_count": 66,
     "metadata": {},
     "output_type": "execute_result"
    }
   ],
   "source": [
    "def ValidationSplit(df_input, frac_of_training_obs):\n",
    "    \n",
    "    \"\"\" Splits dataset into training and  validation dataset\n",
    "    \n",
    "    Parameters\n",
    "    ==========\n",
    "    df_input : (pd.DataFrame) raw training dataset\n",
    "    frac_of_training_obs : (float) a float in the interval 0 to 1\n",
    "    \n",
    "    Returns\n",
    "    =======\n",
    "    df_training, df_validation\n",
    "    \"\"\"\n",
    "    \n",
    "    s = df_input.shape[0] # number of cases\n",
    "    train_up_bound = int(s*frac_of_training_obs)\n",
    "    \n",
    "    df_train = df_input.iloc[:train_up_bound]\n",
    "    df_validation = df_input.iloc[train_up_bound:]\n",
    "    \n",
    "    return df_train, df_validation\n",
    "\n",
    "ValidationSplit(df_train, 0.8)\n",
    "    "
   ]
  },
  {
   "cell_type": "code",
   "execution_count": 23,
   "metadata": {},
   "outputs": [],
   "source": [
    "x, y = label_split(df_train)"
   ]
  },
  {
   "cell_type": "code",
   "execution_count": 40,
   "metadata": {},
   "outputs": [
    {
     "name": "stdout",
     "output_type": "stream",
     "text": [
      "(100,)\n",
      "(100, 784)\n",
      "int64\n",
      "(100,)\n",
      "(100, 784)\n",
      "int64\n",
      "(100,)\n",
      "(100, 784)\n",
      "int64\n",
      "(100,)\n",
      "(100, 784)\n",
      "int64\n",
      "(100,)\n",
      "(100, 784)\n",
      "int64\n",
      "(100,)\n",
      "(100, 784)\n",
      "int64\n",
      "(100,)\n",
      "(100, 784)\n",
      "int64\n",
      "(100,)\n",
      "(100, 784)\n",
      "int64\n",
      "(100,)\n",
      "(100, 784)\n",
      "int64\n",
      "(100,)\n",
      "(100, 784)\n",
      "int64\n",
      "(100,)\n",
      "(100, 784)\n",
      "int64\n",
      "(100,)\n",
      "(100, 784)\n",
      "int64\n",
      "(100,)\n",
      "(100, 784)\n",
      "int64\n",
      "(100,)\n",
      "(100, 784)\n",
      "int64\n",
      "(100,)\n",
      "(100, 784)\n",
      "int64\n",
      "(100,)\n",
      "(100, 784)\n",
      "int64\n",
      "(100,)\n",
      "(100, 784)\n",
      "int64\n",
      "(100,)\n",
      "(100, 784)\n",
      "int64\n",
      "(100,)\n",
      "(100, 784)\n",
      "int64\n",
      "(100,)\n",
      "(100, 784)\n",
      "int64\n",
      "(100,)\n",
      "(100, 784)\n",
      "int64\n",
      "(100,)\n",
      "(100, 784)\n",
      "int64\n",
      "(100,)\n",
      "(100, 784)\n",
      "int64\n",
      "(100,)\n",
      "(100, 784)\n",
      "int64\n",
      "(100,)\n",
      "(100, 784)\n",
      "int64\n",
      "(100,)\n",
      "(100, 784)\n",
      "int64\n",
      "(100,)\n",
      "(100, 784)\n",
      "int64\n",
      "(100,)\n",
      "(100, 784)\n",
      "int64\n",
      "(100,)\n",
      "(100, 784)\n",
      "int64\n",
      "(100,)\n",
      "(100, 784)\n",
      "int64\n",
      "(100,)\n",
      "(100, 784)\n",
      "int64\n",
      "(100,)\n",
      "(100, 784)\n",
      "int64\n",
      "(100,)\n",
      "(100, 784)\n",
      "int64\n",
      "(100,)\n",
      "(100, 784)\n",
      "int64\n",
      "(100,)\n",
      "(100, 784)\n",
      "int64\n",
      "(100,)\n",
      "(100, 784)\n",
      "int64\n",
      "(100,)\n",
      "(100, 784)\n",
      "int64\n",
      "(100,)\n",
      "(100, 784)\n",
      "int64\n",
      "(100,)\n",
      "(100, 784)\n",
      "int64\n",
      "(100,)\n",
      "(100, 784)\n",
      "int64\n",
      "(100,)\n",
      "(100, 784)\n",
      "int64\n",
      "(100,)\n",
      "(100, 784)\n",
      "int64\n",
      "(100,)\n",
      "(100, 784)\n",
      "int64\n",
      "(100,)\n",
      "(100, 784)\n",
      "int64\n",
      "(100,)\n",
      "(100, 784)\n",
      "int64\n",
      "(100,)\n",
      "(100, 784)\n",
      "int64\n",
      "(100,)\n",
      "(100, 784)\n",
      "int64\n",
      "(100,)\n",
      "(100, 784)\n",
      "int64\n",
      "(100,)\n",
      "(100, 784)\n",
      "int64\n",
      "(100,)\n",
      "(100, 784)\n",
      "int64\n",
      "(100,)\n",
      "(100, 784)\n",
      "int64\n",
      "(100,)\n",
      "(100, 784)\n",
      "int64\n",
      "(100,)\n",
      "(100, 784)\n",
      "int64\n",
      "(100,)\n",
      "(100, 784)\n",
      "int64\n",
      "(100,)\n",
      "(100, 784)\n",
      "int64\n",
      "(100,)\n",
      "(100, 784)\n",
      "int64\n",
      "(100,)\n",
      "(100, 784)\n",
      "int64\n",
      "(100,)\n",
      "(100, 784)\n",
      "int64\n",
      "(100,)\n",
      "(100, 784)\n",
      "int64\n",
      "(100,)\n",
      "(100, 784)\n",
      "int64\n",
      "(100,)\n",
      "(100, 784)\n",
      "int64\n",
      "(100,)\n",
      "(100, 784)\n",
      "int64\n",
      "(100,)\n",
      "(100, 784)\n",
      "int64\n",
      "(100,)\n",
      "(100, 784)\n",
      "int64\n",
      "(100,)\n",
      "(100, 784)\n",
      "int64\n",
      "(100,)\n",
      "(100, 784)\n",
      "int64\n",
      "(100,)\n",
      "(100, 784)\n",
      "int64\n",
      "(100,)\n",
      "(100, 784)\n",
      "int64\n",
      "(100,)\n",
      "(100, 784)\n",
      "int64\n",
      "(100,)\n",
      "(100, 784)\n",
      "int64\n",
      "(100,)\n",
      "(100, 784)\n",
      "int64\n",
      "(100,)\n",
      "(100, 784)\n",
      "int64\n",
      "(100,)\n",
      "(100, 784)\n",
      "int64\n",
      "(100,)\n",
      "(100, 784)\n",
      "int64\n",
      "(100,)\n",
      "(100, 784)\n",
      "int64\n",
      "(100,)\n",
      "(100, 784)\n",
      "int64\n",
      "(100,)\n",
      "(100, 784)\n",
      "int64\n",
      "(100,)\n",
      "(100, 784)\n",
      "int64\n",
      "(100,)\n",
      "(100, 784)\n",
      "int64\n",
      "(100,)\n",
      "(100, 784)\n",
      "int64\n",
      "(100,)\n",
      "(100, 784)\n",
      "int64\n",
      "(100,)\n",
      "(100, 784)\n",
      "int64\n",
      "(100,)\n",
      "(100, 784)\n",
      "int64\n",
      "(100,)\n",
      "(100, 784)\n",
      "int64\n",
      "(100,)\n",
      "(100, 784)\n",
      "int64\n",
      "(100,)\n",
      "(100, 784)\n",
      "int64\n",
      "(100,)\n",
      "(100, 784)\n",
      "int64\n",
      "(100,)\n",
      "(100, 784)\n",
      "int64\n",
      "(100,)\n",
      "(100, 784)\n",
      "int64\n",
      "(100,)\n",
      "(100, 784)\n",
      "int64\n",
      "(100,)\n",
      "(100, 784)\n",
      "int64\n",
      "(100,)\n",
      "(100, 784)\n",
      "int64\n",
      "(100,)\n",
      "(100, 784)\n",
      "int64\n",
      "(100,)\n",
      "(100, 784)\n",
      "int64\n",
      "(100,)\n",
      "(100, 784)\n",
      "int64\n",
      "(100,)\n",
      "(100, 784)\n",
      "int64\n",
      "(100,)\n",
      "(100, 784)\n",
      "int64\n",
      "(100,)\n",
      "(100, 784)\n",
      "int64\n",
      "(100,)\n",
      "(100, 784)\n",
      "int64\n",
      "(100,)\n",
      "(100, 784)\n",
      "int64\n"
     ]
    }
   ],
   "source": [
    "k_list = [i*2 + 1 for i in range(1)]\n",
    "pred_list = []\n",
    "\n",
    "for k in k_list:\n",
    "    df_test['prediction'] = df_test.apply(lambda prediction: kNearestClassifier(x,y,[prediction[i] for i in df_test.columns if i not in ['labs', 'prediction']], k=k),axis=1)\n",
    "    pred_list.append(evaluation_kNearest(df_test))\n",
    "    \n",
    "     "
   ]
  },
  {
   "cell_type": "code",
   "execution_count": 15,
   "metadata": {},
   "outputs": [
    {
     "data": {
      "text/plain": [
       "1"
      ]
     },
     "execution_count": 15,
     "metadata": {},
     "output_type": "execute_result"
    },
    {
     "data": {
      "image/png": "[encoded data removed]",
      "text/plain": [
       "<matplotlib.figure.Figure at 0x112702dd8>"
      ]
     },
     "metadata": {},
     "output_type": "display_data"
    }
   ],
   "source": [
    "plt.plot(k_list, pred_list)\n",
    "min(k_list)"
   ]
  },
  {
   "cell_type": "code",
   "execution_count": null,
   "metadata": {},
   "outputs": [],
   "source": [
    "pred_list"
   ]
  },
  {
   "cell_type": "code",
   "execution_count": null,
   "metadata": {},
   "outputs": [],
   "source": [
    "df_test"
   ]
  },
  {
   "cell_type": "code",
   "execution_count": null,
   "metadata": {
    "collapsed": true
   },
   "outputs": [],
   "source": [
    "a = [x**2 for x in range(5)]"
   ]
  },
  {
   "cell_type": "code",
   "execution_count": null,
   "metadata": {},
   "outputs": [],
   "source": [
    "a"
   ]
  },
  {
   "cell_type": "code",
   "execution_count": null,
   "metadata": {},
   "outputs": [],
   "source": [
    "df_tut = pd.DataFrame({'lars' : [1,2,3,4,5],'torben' : [6,7,8,9,10]} )"
   ]
  },
  {
   "cell_type": "code",
   "execution_count": null,
   "metadata": {},
   "outputs": [],
   "source": [
    "varss = [i for i in df_tut.columns]\n",
    "varss"
   ]
  },
  {
   "cell_type": "code",
   "execution_count": null,
   "metadata": {},
   "outputs": [],
   "source": [
    "df_tut.columns"
   ]
  },
  {
   "cell_type": "code",
   "execution_count": 13,
   "metadata": {
    "collapsed": true
   },
   "outputs": [],
   "source": [
    "class lars:\n",
    "    \n",
    "    def __init__(self, alder):\n",
    "        self.alder = alder\n",
    "        \n",
    "    def helloWorld():\n",
    "        print(\"Hej Lars\")\n",
    "        "
   ]
  },
  {
   "cell_type": "code",
   "execution_count": 14,
   "metadata": {},
   "outputs": [
    {
     "data": {
      "text/plain": [
       "<__main__.lars at 0x1127026a0>"
      ]
     },
     "execution_count": 14,
     "metadata": {},
     "output_type": "execute_result"
    }
   ],
   "source": []
  },
  {
   "cell_type": "code",
   "execution_count": null,
   "metadata": {
    "collapsed": true
   },
   "outputs": [],
   "source": []
  }
 ],
 "metadata": {
  "kernelspec": {
   "display_name": "Python 3",
   "language": "python",
   "name": "python3"
  },
  "language_info": {
   "codemirror_mode": {
    "name": "ipython",
    "version": 3
   },
   "file_extension": ".py",
   "mimetype": "text/x-python",
   "name": "python",
   "nbconvert_exporter": "python",
   "pygments_lexer": "ipython3",
   "version": "3.6.3"
  }
 },
 "nbformat": 4,
 "nbformat_minor": 2
}
