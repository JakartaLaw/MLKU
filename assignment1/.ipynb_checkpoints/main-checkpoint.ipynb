{
 "cells": [
  {
   "cell_type": "code",
   "execution_count": 1,
   "metadata": {
    "collapsed": true
   },
   "outputs": [],
   "source": [
    "import pandas as pd\n",
    "import numpy as np\n",
    "import matplotlib.pyplot as plt\n",
    "\n",
    "# modules made for assignment\n",
    "from modules import LoadData\n",
    "from modules import ShowImage\n",
    "from modules import label_split\n",
    "from modules import kNearestClassifier\n",
    "from modules import evaluation_kNearest\n",
    "from modules import BinaryRespons\n",
    "from modules import ValidationSplit\n",
    "from modules import DevelopData\n",
    "from modules import OptimalK\n",
    "\n",
    "%matplotlib inline"
   ]
  },
  {
   "cell_type": "markdown",
   "metadata": {},
   "source": [
    "# Loading Data"
   ]
  },
  {
   "cell_type": "code",
   "execution_count": 2,
   "metadata": {
    "collapsed": true
   },
   "outputs": [],
   "source": [
    "#LoadData.MNIST() #Data is cleaned to proper format"
   ]
  },
  {
   "cell_type": "code",
   "execution_count": 3,
   "metadata": {
    "collapsed": true
   },
   "outputs": [],
   "source": [
    "df_train_raw = pd.read_csv('MNIST_df_train.csv')\n",
    "df_test_raw = pd.read_csv('MNIST_df_test.csv')"
   ]
  },
  {
   "cell_type": "code",
   "execution_count": 4,
   "metadata": {
    "collapsed": true
   },
   "outputs": [],
   "source": [
    "#ShowImage(df_train, 2)"
   ]
  },
  {
   "cell_type": "code",
   "execution_count": 5,
   "metadata": {
    "collapsed": true
   },
   "outputs": [],
   "source": [
    "#ShowImage(df_test, 3)"
   ]
  },
  {
   "cell_type": "markdown",
   "metadata": {},
   "source": [
    "# 0/1 classification"
   ]
  },
  {
   "cell_type": "code",
   "execution_count": 6,
   "metadata": {
    "collapsed": true
   },
   "outputs": [],
   "source": [
    "v1, v2 = 0, 1\n",
    "df_train = BinaryRespons(df_train_raw,v1,v2)\n",
    "df_test = BinaryRespons(df_test_raw,v1,v2)"
   ]
  },
  {
   "cell_type": "code",
   "execution_count": 7,
   "metadata": {
    "collapsed": true
   },
   "outputs": [],
   "source": [
    "# For developing\n",
    "\n",
    "#df_train = DevelopData(df_train,100)\n",
    "#df_test = DevelopData(df_test,20)"
   ]
  },
  {
   "cell_type": "code",
   "execution_count": 8,
   "metadata": {},
   "outputs": [
    {
     "name": "stderr",
     "output_type": "stream",
     "text": [
      "/Users/Jeppe/anaconda3/lib/python3.6/site-packages/pandas/core/generic.py:3110: SettingWithCopyWarning: \n",
      "A value is trying to be set on a copy of a slice from a DataFrame.\n",
      "Try using .loc[row_indexer,col_indexer] = value instead\n",
      "\n",
      "See the caveats in the documentation: http://pandas.pydata.org/pandas-docs/stable/indexing.html#indexing-view-versus-copy\n",
      "  self[name] = value\n"
     ]
    }
   ],
   "source": [
    "df_train.labs = df_train.labs.astype('int64')\n",
    "df_test.labs = df_test.labs.astype('int64')\n",
    "\n",
    "df_train, df_validation = ValidationSplit(df_train, 0.8)\n",
    "\n",
    "x, y = label_split(df_train)"
   ]
  },
  {
   "cell_type": "code",
   "execution_count": 9,
   "metadata": {
    "collapsed": true
   },
   "outputs": [],
   "source": [
    "k_list = [i*2 + 1 for i in range(17)]\n",
    "pred_list_val = []\n",
    "\n",
    "for k in k_list:\n",
    "    df_validation['prediction'] = df_validation.apply(lambda prediction: kNearestClassifier(x,y,[prediction[i] for i in df_validation.columns if i not in ['labs', 'prediction']], k=k),axis=1)\n",
    "    pred_list_val.append(evaluation_kNearest(df_validation))"
   ]
  },
  {
   "cell_type": "code",
   "execution_count": 10,
   "metadata": {},
   "outputs": [
    {
     "name": "stderr",
     "output_type": "stream",
     "text": [
      "/Users/Jeppe/anaconda3/lib/python3.6/site-packages/ipykernel/__main__.py:4: SettingWithCopyWarning: \n",
      "A value is trying to be set on a copy of a slice from a DataFrame.\n",
      "Try using .loc[row_indexer,col_indexer] = value instead\n",
      "\n",
      "See the caveats in the documentation: http://pandas.pydata.org/pandas-docs/stable/indexing.html#indexing-view-versus-copy\n"
     ]
    }
   ],
   "source": [
    "pred_list_test = []\n",
    "\n",
    "for k in k_list:\n",
    "    df_test['prediction'] = df_test.apply(lambda prediction: kNearestClassifier(x,y,[prediction[i] for i in df_test.columns if i not in ['labs', 'prediction']], k=k),axis=1)\n",
    "    pred_list_test.append(evaluation_kNearest(df_test))"
   ]
  },
  {
   "cell_type": "code",
   "execution_count": 11,
   "metadata": {
    "collapsed": true
   },
   "outputs": [],
   "source": [
    "k_optimal_val, error_k_optimal_val = OptimalK(k_list, pred_list_val)\n",
    "k_optimal_test, error_k_optimal_test = OptimalK(k_list, pred_list_test)"
   ]
  },
  {
   "cell_type": "code",
   "execution_count": 12,
   "metadata": {},
   "outputs": [
    {
     "data": {
      "image/png": "[encoded data removed]",
      "text/plain": [
       "<matplotlib.figure.Figure at 0x1065c8860>"
      ]
     },
     "metadata": {},
     "output_type": "display_data"
    }
   ],
   "source": [
    "f, (ax1) = plt.subplots(1, 1)\n",
    "\n",
    "ax1.plot(k_list, pred_list_val,label='error validation')\n",
    "ax1.plot(k_list, pred_list_test,label='error test')\n",
    "\n",
    "ax1.set_xlabel('K')\n",
    "ax1.set_ylabel('error')\n",
    "\n",
    "ax1.set_title('Plot of validation and test error classification of {}/{}'.format(v1, v2))\n",
    "\n",
    "ax1.legend()\n",
    "plt.savefig('figs/classification{}{}.png'.format(v1, v2))"
   ]
  },
  {
   "cell_type": "code",
   "execution_count": 13,
   "metadata": {},
   "outputs": [
    {
     "name": "stdout",
     "output_type": "stream",
     "text": [
      "optimal K - validation:  31 error of optimal K - validation:  0.0\n",
      "optimal K - test:  33 error of optimal K - test:  0.0\n"
     ]
    }
   ],
   "source": [
    "print('optimal K - validation: ', k_optimal_val, 'error of optimal K - validation: ',error_k_optimal_val)\n",
    "print('optimal K - test: ', k_optimal_test, 'error of optimal K - test: ',error_k_optimal_test)"
   ]
  },
  {
   "cell_type": "markdown",
   "metadata": {},
   "source": [
    "# 0/8 classification"
   ]
  },
  {
   "cell_type": "code",
   "execution_count": 14,
   "metadata": {
    "collapsed": true
   },
   "outputs": [],
   "source": [
    "v1, v2 = 0, 8\n",
    "df_train = BinaryRespons(df_train_raw,v1,v2)\n",
    "df_test = BinaryRespons(df_test_raw,v1,v2)"
   ]
  },
  {
   "cell_type": "code",
   "execution_count": 15,
   "metadata": {
    "collapsed": true
   },
   "outputs": [],
   "source": [
    "# For developing\n",
    "\n",
    "#df_train = DevelopData(df_train,100)\n",
    "#df_test = DevelopData(df_test,20)"
   ]
  },
  {
   "cell_type": "code",
   "execution_count": 16,
   "metadata": {},
   "outputs": [
    {
     "name": "stderr",
     "output_type": "stream",
     "text": [
      "/Users/Jeppe/anaconda3/lib/python3.6/site-packages/pandas/core/generic.py:3110: SettingWithCopyWarning: \n",
      "A value is trying to be set on a copy of a slice from a DataFrame.\n",
      "Try using .loc[row_indexer,col_indexer] = value instead\n",
      "\n",
      "See the caveats in the documentation: http://pandas.pydata.org/pandas-docs/stable/indexing.html#indexing-view-versus-copy\n",
      "  self[name] = value\n"
     ]
    }
   ],
   "source": [
    "df_train.labs = df_train.labs.astype('int64')\n",
    "df_test.labs = df_test.labs.astype('int64')\n",
    "\n",
    "df_train, df_validation = ValidationSplit(df_train, 0.8)\n",
    "\n",
    "x, y = label_split(df_train)"
   ]
  },
  {
   "cell_type": "code",
   "execution_count": 17,
   "metadata": {
    "collapsed": true
   },
   "outputs": [],
   "source": [
    "k_list = [i*2 + 1 for i in range(17)]\n",
    "pred_list_val = []\n",
    "\n",
    "for k in k_list:\n",
    "    df_validation['prediction'] = df_validation.apply(lambda prediction: kNearestClassifier(x,y,[prediction[i] for i in df_validation.columns if i not in ['labs', 'prediction']], k=k),axis=1)\n",
    "    pred_list_val.append(evaluation_kNearest(df_validation))"
   ]
  },
  {
   "cell_type": "code",
   "execution_count": 18,
   "metadata": {},
   "outputs": [
    {
     "name": "stderr",
     "output_type": "stream",
     "text": [
      "/Users/Jeppe/anaconda3/lib/python3.6/site-packages/ipykernel/__main__.py:4: SettingWithCopyWarning: \n",
      "A value is trying to be set on a copy of a slice from a DataFrame.\n",
      "Try using .loc[row_indexer,col_indexer] = value instead\n",
      "\n",
      "See the caveats in the documentation: http://pandas.pydata.org/pandas-docs/stable/indexing.html#indexing-view-versus-copy\n"
     ]
    }
   ],
   "source": [
    "pred_list_test = []\n",
    "\n",
    "for k in k_list:\n",
    "    df_test['prediction'] = df_test.apply(lambda prediction: kNearestClassifier(x,y,[prediction[i] for i in df_test.columns if i not in ['labs', 'prediction']], k=k),axis=1)\n",
    "    pred_list_test.append(evaluation_kNearest(df_test))"
   ]
  },
  {
   "cell_type": "code",
   "execution_count": 19,
   "metadata": {
    "collapsed": true
   },
   "outputs": [],
   "source": [
    "k_optimal_val, error_k_optimal_val = OptimalK(k_list, pred_list_val)\n",
    "k_optimal_test, error_k_optimal_test = OptimalK(k_list, pred_list_test)"
   ]
  },
  {
   "cell_type": "code",
   "execution_count": 20,
   "metadata": {},
   "outputs": [
    {
     "data": {
      "image/png": "[encoded data removed]",
      "text/plain": [
       "<matplotlib.figure.Figure at 0x1020cb320>"
      ]
     },
     "metadata": {},
     "output_type": "display_data"
    }
   ],
   "source": [
    "f, (ax1) = plt.subplots(1, 1)\n",
    "\n",
    "ax1.plot(k_list, pred_list_val,label='error validation')\n",
    "ax1.plot(k_list, pred_list_test,label='error test')\n",
    "ax1.set_xlabel('K')\n",
    "ax1.set_ylabel('error')\n",
    "\n",
    "ax1.set_title('Plot of validation and test error classification of {}/{}'.format(v1, v2))\n",
    "\n",
    "ax1.legend()\n",
    "plt.savefig('figs/classification{}{}.png'.format(v1, v2))"
   ]
  },
  {
   "cell_type": "code",
   "execution_count": 21,
   "metadata": {},
   "outputs": [
    {
     "name": "stdout",
     "output_type": "stream",
     "text": [
      "optimal K - validation:  11 error of optimal K - validation:  0.007712082262210797\n",
      "optimal K - test:  1 error of optimal K - test:  0.010899182561307902\n"
     ]
    }
   ],
   "source": [
    "print('optimal K - validation: ', k_optimal_val, 'error of optimal K - validation: ',error_k_optimal_val)\n",
    "print('optimal K - test: ', k_optimal_test, 'error of optimal K - test: ',error_k_optimal_test)"
   ]
  },
  {
   "cell_type": "markdown",
   "metadata": {},
   "source": [
    "# 5/6 classification"
   ]
  },
  {
   "cell_type": "code",
   "execution_count": 22,
   "metadata": {
    "collapsed": true
   },
   "outputs": [],
   "source": [
    "v1, v2 = 5, 6\n",
    "df_train = BinaryRespons(df_train_raw,v1,v2)\n",
    "df_test = BinaryRespons(df_test_raw,v1,v2)"
   ]
  },
  {
   "cell_type": "code",
   "execution_count": 23,
   "metadata": {
    "collapsed": true
   },
   "outputs": [],
   "source": [
    "# For developing\n",
    "\n",
    "#df_train = DevelopData(df_train,100)\n",
    "#df_test = DevelopData(df_test,20)"
   ]
  },
  {
   "cell_type": "code",
   "execution_count": 24,
   "metadata": {},
   "outputs": [
    {
     "name": "stderr",
     "output_type": "stream",
     "text": [
      "/Users/Jeppe/anaconda3/lib/python3.6/site-packages/pandas/core/generic.py:3110: SettingWithCopyWarning: \n",
      "A value is trying to be set on a copy of a slice from a DataFrame.\n",
      "Try using .loc[row_indexer,col_indexer] = value instead\n",
      "\n",
      "See the caveats in the documentation: http://pandas.pydata.org/pandas-docs/stable/indexing.html#indexing-view-versus-copy\n",
      "  self[name] = value\n"
     ]
    }
   ],
   "source": [
    "df_train.labs = df_train.labs.astype('int64')\n",
    "df_test.labs = df_test.labs.astype('int64')\n",
    "\n",
    "df_train, df_validation = ValidationSplit(df_train, 0.8)\n",
    "\n",
    "x, y = label_split(df_train)"
   ]
  },
  {
   "cell_type": "code",
   "execution_count": 25,
   "metadata": {
    "collapsed": true
   },
   "outputs": [],
   "source": [
    "k_list = [i*2 + 1 for i in range(17)]\n",
    "pred_list_val = []\n",
    "\n",
    "for k in k_list:\n",
    "    df_validation['prediction'] = df_validation.apply(lambda prediction: kNearestClassifier(x,y,[prediction[i] for i in df_validation.columns if i not in ['labs', 'prediction']], k=k),axis=1)\n",
    "    pred_list_val.append(evaluation_kNearest(df_validation))"
   ]
  },
  {
   "cell_type": "code",
   "execution_count": 26,
   "metadata": {},
   "outputs": [
    {
     "name": "stderr",
     "output_type": "stream",
     "text": [
      "/Users/Jeppe/anaconda3/lib/python3.6/site-packages/ipykernel/__main__.py:4: SettingWithCopyWarning: \n",
      "A value is trying to be set on a copy of a slice from a DataFrame.\n",
      "Try using .loc[row_indexer,col_indexer] = value instead\n",
      "\n",
      "See the caveats in the documentation: http://pandas.pydata.org/pandas-docs/stable/indexing.html#indexing-view-versus-copy\n"
     ]
    }
   ],
   "source": [
    "pred_list_test = []\n",
    "\n",
    "for k in k_list:\n",
    "    df_test['prediction'] = df_test.apply(lambda prediction: kNearestClassifier(x,y,[prediction[i] for i in df_test.columns if i not in ['labs', 'prediction']], k=k),axis=1)\n",
    "    pred_list_test.append(evaluation_kNearest(df_test))"
   ]
  },
  {
   "cell_type": "code",
   "execution_count": 27,
   "metadata": {
    "collapsed": true
   },
   "outputs": [],
   "source": [
    "k_optimal_val, error_k_optimal_val = OptimalK(k_list, pred_list_val)\n",
    "k_optimal_test, error_k_optimal_test = OptimalK(k_list, pred_list_test)"
   ]
  },
  {
   "cell_type": "code",
   "execution_count": 28,
   "metadata": {},
   "outputs": [
    {
     "data": {
      "image/png": "[encoded data removed]",
      "text/plain": [
       "<matplotlib.figure.Figure at 0x1020c5b70>"
      ]
     },
     "metadata": {},
     "output_type": "display_data"
    }
   ],
   "source": [
    "f, (ax1) = plt.subplots(1, 1)\n",
    "\n",
    "ax1.plot(k_list, pred_list_val,label='error validation')\n",
    "ax1.plot(k_list, pred_list_test,label='error test')\n",
    "\n",
    "ax1.set_xlabel('K')\n",
    "ax1.set_ylabel('error')\n",
    "\n",
    "ax1.set_title('Plot of validation and test error classification of {}/{}'.format(v1, v2))\n",
    "\n",
    "ax1.legend()\n",
    "plt.savefig('figs/classification{}{}.png'.format(v1, v2))"
   ]
  },
  {
   "cell_type": "code",
   "execution_count": 29,
   "metadata": {},
   "outputs": [
    {
     "name": "stdout",
     "output_type": "stream",
     "text": [
      "optimal K - validation:  3 error of optimal K - validation:  0.005319148936170213\n",
      "optimal K - test:  3 error of optimal K - test:  0.008403361344537815\n"
     ]
    }
   ],
   "source": [
    "print('optimal K - validation: ', k_optimal_val, 'error of optimal K - validation: ',error_k_optimal_val)\n",
    "print('optimal K - test: ', k_optimal_test, 'error of optimal K - test: ',error_k_optimal_test)"
   ]
  },
  {
   "cell_type": "markdown",
   "metadata": {},
   "source": [
    "# Linear Regression\n",
    "\n"
   ]
  },
  {
   "cell_type": "code",
   "execution_count": 30,
   "metadata": {
    "collapsed": true
   },
   "outputs": [],
   "source": [
    "danwood = LoadData.DanWood()\n",
    "danwood['ones'] = 1 # adding vector for constant\n",
    "danwood.head()"
   ]
  },
  {
   "cell_type": "code",
   "execution_count": 33,
   "metadata": {},
   "outputs": [
    {
     "name": "stdout",
     "output_type": "stream",
     "text": [
      "(6, 2) (6,)\n"
     ]
    }
   ],
   "source": [
    "x = np.array(danwood.drop('y', axis=1))\n",
    "y = np.array(danwood['y'])\n",
    "print(x.shape, y.shape)"
   ]
  },
  {
   "cell_type": "code",
   "execution_count": 34,
   "metadata": {},
   "outputs": [
    {
     "data": {
      "text/plain": [
       "array([  9.48934569, -10.42696146])"
      ]
     },
     "execution_count": 34,
     "metadata": {},
     "output_type": "execute_result"
    }
   ],
   "source": [
    "xx = np.dot(x.T,x)\n",
    "xy = np.dot(x.T,y)\n",
    "xx_inv = np.linalg.inv(xx)\n",
    "\n",
    "ols = np.dot(xx_inv,xy)"
   ]
  },
  {
   "cell_type": "code",
   "execution_count": 35,
   "metadata": {},
   "outputs": [
    {
     "data": {
      "text/plain": [
       "array([ 1.64253732,  1.72875481,  1.81497229,  1.90118977,  1.98740726,\n",
       "        2.07362474,  2.15984222,  2.24605971,  2.33227719,  2.41849467,\n",
       "        2.50471216,  2.59092964,  2.67714713,  2.76336461,  2.84958209,\n",
       "        2.93579958,  3.02201706,  3.10823454,  3.19445203,  3.28066951,\n",
       "        3.366887  ,  3.45310448,  3.53932196,  3.62553945,  3.71175693,\n",
       "        3.79797441,  3.8841919 ,  3.97040938,  4.05662687,  4.14284435,\n",
       "        4.22906183,  4.31527932,  4.4014968 ,  4.48771428,  4.57393177,\n",
       "        4.66014925,  4.74636674,  4.83258422,  4.9188017 ,  5.00501919,\n",
       "        5.09123667,  5.17745415,  5.26367164,  5.34988912,  5.4361066 ,\n",
       "        5.52232409,  5.60854157,  5.69475906,  5.78097654,  5.86719402])"
      ]
     },
     "execution_count": 35,
     "metadata": {},
     "output_type": "execute_result"
    }
   ],
   "source": [
    "linsp_length = abs((min(danwood.x) - max(danwood.x)))*0.1\n",
    "\n",
    "linsp = np.linspace(min(danwood.x)-linsp_length,max(danwood.x)+linsp_length)\n",
    "y_hat = ols[-1] + linsp*ols[0]"
   ]
  },
  {
   "cell_type": "code",
   "execution_count": 36,
   "metadata": {},
   "outputs": [
    {
     "data": {
      "image/png": "[encoded data removed]",
      "text/plain": [
       "<matplotlib.figure.Figure at 0x1a1c5de6a0>"
      ]
     },
     "metadata": {},
     "output_type": "display_data"
    }
   ],
   "source": [
    "f, (ax1) = plt.subplots(1,1)\n",
    "\n",
    "ax1.plot(linsp,y_hat, label = 'ols regression')\n",
    "ax1.scatter(danwood.x,danwood.y, color='red', label = 'empirical observations')\n",
    "ax1.set_xlabel('Absolute temperature (x)')\n",
    "ax1.set_ylabel('radiated energy (y)')\n",
    "ax1.set_title('OLS regression of Danwood \\n intercept: {}, beta: {}'.format(ols[-1],ols[0]))\n",
    "ax1.legend()\n",
    "\n",
    "\n",
    "plt.savefig('figs/OLS.png')"
   ]
  },
  {
   "cell_type": "code",
   "execution_count": null,
   "metadata": {
    "collapsed": true
   },
   "outputs": [],
   "source": []
  },
  {
   "cell_type": "code",
   "execution_count": null,
   "metadata": {
    "collapsed": true
   },
   "outputs": [],
   "source": []
  }
 ],
 "metadata": {
  "kernelspec": {
   "display_name": "Python 3",
   "language": "python",
   "name": "python3"
  },
  "language_info": {
   "codemirror_mode": {
    "name": "ipython",
    "version": 3
   },
   "file_extension": ".py",
   "mimetype": "text/x-python",
   "name": "python",
   "nbconvert_exporter": "python",
   "pygments_lexer": "ipython3",
   "version": "3.6.3"
  }
 },
 "nbformat": 4,
 "nbformat_minor": 2
}
