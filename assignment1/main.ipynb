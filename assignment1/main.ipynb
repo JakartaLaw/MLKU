{
 "cells": [
  {
   "cell_type": "code",
   "execution_count": 1,
   "metadata": {},
   "outputs": [],
   "source": [
    "import pandas as pd\n",
    "import numpy as np\n",
    "import matplotlib.pyplot as plt\n",
    "\n",
    "# modules made for assignment\n",
    "from modules import LoadData\n",
    "from modules import ShowImage\n",
    "from modules import label_split\n",
    "from modules import kNearestClassifier\n",
    "from modules import evaluation_kNearest\n",
    "from modules import BinaryRespons\n",
    "from modules import ValidationSplit\n",
    "from modules import DevelopData\n",
    "from modules import OptimalK\n",
    "\n",
    "%matplotlib inline"
   ]
  },
  {
   "cell_type": "markdown",
   "metadata": {},
   "source": [
    "# Loading Data"
   ]
  },
  {
   "cell_type": "code",
   "execution_count": 2,
   "metadata": {
    "collapsed": true
   },
   "outputs": [],
   "source": [
    "#LoadData.MNIST() #Data is cleaned to proper format"
   ]
  },
  {
   "cell_type": "code",
   "execution_count": 3,
   "metadata": {},
   "outputs": [],
   "source": [
    "df_train_raw = pd.read_csv('MNIST_df_train.csv')\n",
    "df_test_raw = pd.read_csv('MNIST_df_test.csv')"
   ]
  },
  {
   "cell_type": "code",
   "execution_count": 4,
   "metadata": {
    "collapsed": true
   },
   "outputs": [],
   "source": [
    "#ShowImage(df_train, 2)"
   ]
  },
  {
   "cell_type": "code",
   "execution_count": 5,
   "metadata": {
    "collapsed": true
   },
   "outputs": [],
   "source": [
    "#ShowImage(df_test, 3)"
   ]
  },
  {
   "cell_type": "markdown",
   "metadata": {},
   "source": [
    "# 0/1 classification"
   ]
  },
  {
   "cell_type": "code",
   "execution_count": 6,
   "metadata": {
    "collapsed": true
   },
   "outputs": [],
   "source": [
    "v1, v2 = 0, 1\n",
    "df_train = BinaryRespons(df_train_raw,v1,v2)\n",
    "df_test = BinaryRespons(df_test_raw,v1,v2)"
   ]
  },
  {
   "cell_type": "code",
   "execution_count": 7,
   "metadata": {
    "collapsed": true
   },
   "outputs": [],
   "source": [
    "# For developing\n",
    "\n",
    "df_train = DevelopData(df_train,100)\n",
    "df_test = DevelopData(df_test,20)"
   ]
  },
  {
   "cell_type": "code",
   "execution_count": 8,
   "metadata": {},
   "outputs": [],
   "source": [
    "df_train.labs = df_train.labs.astype('int64')\n",
    "df_test.labs = df_test.labs.astype('int64')\n",
    "\n",
    "df_train, df_validation = ValidationSplit(df_train, 0.8)\n",
    "\n",
    "x, y = label_split(df_train)"
   ]
  },
  {
   "cell_type": "code",
   "execution_count": 9,
   "metadata": {},
   "outputs": [],
   "source": [
    "k_list = [i*2 + 1 for i in range(17)]\n",
    "pred_list_val = []\n",
    "\n",
    "for k in k_list:\n",
    "    df_validation['prediction'] = df_validation.apply(lambda prediction: kNearestClassifier(x,y,[prediction[i] for i in df_validation.columns if i not in ['labs', 'prediction']], k=k),axis=1)\n",
    "    pred_list_val.append(evaluation_kNearest(df_validation))"
   ]
  },
  {
   "cell_type": "code",
   "execution_count": 10,
   "metadata": {
    "collapsed": true
   },
   "outputs": [],
   "source": [
    "pred_list_test = []\n",
    "\n",
    "for k in k_list:\n",
    "    df_test['prediction'] = df_test.apply(lambda prediction: kNearestClassifier(x,y,[prediction[i] for i in df_test.columns if i not in ['labs', 'prediction']], k=k),axis=1)\n",
    "    pred_list_test.append(evaluation_kNearest(df_test))"
   ]
  },
  {
   "cell_type": "code",
   "execution_count": 11,
   "metadata": {},
   "outputs": [],
   "source": [
    "k_optimal_val, error_k_optimal_val = OptimalK(k_list, pred_list_val)\n",
    "k_optimal_test, error_k_optimal_test = OptimalK(k_list, pred_list_test)"
   ]
  },
  {
   "cell_type": "code",
   "execution_count": 12,
   "metadata": {},
   "outputs": [
    {
     "data": {
      "image/png": "[encoded data removed]",
      "text/plain": [
       "<matplotlib.figure.Figure at 0x107f416d8>"
      ]
     },
     "metadata": {},
     "output_type": "display_data"
    }
   ],
   "source": [
    "f, (ax1) = plt.subplots(1, 1)\n",
    "\n",
    "ax1.plot(k_list, pred_list_val,label='error validation')\n",
    "ax1.plot(k_list, pred_list_test,label='error test')\n",
    "\n",
    "ax1.set_xlabel('K')\n",
    "ax1.set_ylabel('error')\n",
    "\n",
    "ax1.set_title('Plot of validation and test error classification of {}/{}'.format(v1, v2))\n",
    "\n",
    "ax1.legend()\n",
    "plt.savefig('figs/classification{}{}.png'.format(v1, v2))"
   ]
  },
  {
   "cell_type": "code",
   "execution_count": 13,
   "metadata": {},
   "outputs": [
    {
     "name": "stdout",
     "output_type": "stream",
     "text": [
      "optimal K - validation:  33 error of optimal K - validation:  0.0\n",
      "optimal K - test:  33 error of optimal K - test:  0.0\n"
     ]
    }
   ],
   "source": [
    "print('optimal K - validation: ', k_optimal_val, 'error of optimal K - validation: ',error_k_optimal_val)\n",
    "print('optimal K - test: ', k_optimal_test, 'error of optimal K - test: ',error_k_optimal_test)"
   ]
  },
  {
   "cell_type": "markdown",
   "metadata": {},
   "source": [
    "# 0/8 classification"
   ]
  },
  {
   "cell_type": "code",
   "execution_count": 14,
   "metadata": {
    "collapsed": true
   },
   "outputs": [],
   "source": [
    "v1, v2 = 0, 8\n",
    "df_train = BinaryRespons(df_train_raw,v1,v2)\n",
    "df_test = BinaryRespons(df_test_raw,v1,v2)"
   ]
  },
  {
   "cell_type": "code",
   "execution_count": 15,
   "metadata": {
    "collapsed": true
   },
   "outputs": [],
   "source": [
    "# For developing\n",
    "\n",
    "df_train = DevelopData(df_train,100)\n",
    "df_test = DevelopData(df_test,20)"
   ]
  },
  {
   "cell_type": "code",
   "execution_count": 16,
   "metadata": {
    "collapsed": true
   },
   "outputs": [],
   "source": [
    "df_train.labs = df_train.labs.astype('int64')\n",
    "df_test.labs = df_test.labs.astype('int64')\n",
    "\n",
    "df_train, df_validation = ValidationSplit(df_train, 0.8)\n",
    "\n",
    "x, y = label_split(df_train)"
   ]
  },
  {
   "cell_type": "code",
   "execution_count": 17,
   "metadata": {},
   "outputs": [],
   "source": [
    "k_list = [i*2 + 1 for i in range(17)]\n",
    "pred_list_val = []\n",
    "\n",
    "for k in k_list:\n",
    "    df_validation['prediction'] = df_validation.apply(lambda prediction: kNearestClassifier(x,y,[prediction[i] for i in df_validation.columns if i not in ['labs', 'prediction']], k=k),axis=1)\n",
    "    pred_list_val.append(evaluation_kNearest(df_validation))"
   ]
  },
  {
   "cell_type": "code",
   "execution_count": 18,
   "metadata": {
    "collapsed": true
   },
   "outputs": [],
   "source": [
    "pred_list_test = []\n",
    "\n",
    "for k in k_list:\n",
    "    df_test['prediction'] = df_test.apply(lambda prediction: kNearestClassifier(x,y,[prediction[i] for i in df_test.columns if i not in ['labs', 'prediction']], k=k),axis=1)\n",
    "    pred_list_test.append(evaluation_kNearest(df_test))"
   ]
  },
  {
   "cell_type": "code",
   "execution_count": 19,
   "metadata": {
    "collapsed": true
   },
   "outputs": [],
   "source": [
    "k_optimal_val, error_k_optimal_val = OptimalK(k_list, pred_list_val)\n",
    "k_optimal_test, error_k_optimal_test = OptimalK(k_list, pred_list_test)"
   ]
  },
  {
   "cell_type": "code",
   "execution_count": 20,
   "metadata": {},
   "outputs": [
    {
     "data": {
      "image/png": "[encoded data removed]",
      "text/plain": [
       "<matplotlib.figure.Figure at 0x10c3fdb00>"
      ]
     },
     "metadata": {},
     "output_type": "display_data"
    }
   ],
   "source": [
    "f, (ax1) = plt.subplots(1, 1)\n",
    "\n",
    "ax1.plot(k_list, pred_list_val,label='error validation')\n",
    "ax1.plot(k_list, pred_list_test,label='error test')\n",
    "ax1.set_xlabel('K')\n",
    "ax1.set_ylabel('error')\n",
    "\n",
    "ax1.set_title('Plot of validation and test error classification of {}/{}'.format(v1, v2))\n",
    "\n",
    "ax1.legend()\n",
    "plt.savefig('figs/classification{}{}.png'.format(v1, v2))"
   ]
  },
  {
   "cell_type": "code",
   "execution_count": 21,
   "metadata": {},
   "outputs": [
    {
     "name": "stdout",
     "output_type": "stream",
     "text": [
      "optimal K - validation:  33 error of optimal K - validation:  0.0\n",
      "optimal K - test:  33 error of optimal K - test:  0.0\n"
     ]
    }
   ],
   "source": [
    "print('optimal K - validation: ', k_optimal_val, 'error of optimal K - validation: ',error_k_optimal_val)\n",
    "print('optimal K - test: ', k_optimal_test, 'error of optimal K - test: ',error_k_optimal_test)"
   ]
  },
  {
   "cell_type": "markdown",
   "metadata": {},
   "source": [
    "# 5/6 classification"
   ]
  },
  {
   "cell_type": "code",
   "execution_count": 22,
   "metadata": {
    "collapsed": true
   },
   "outputs": [],
   "source": [
    "v1, v2 = 5, 6\n",
    "df_train = BinaryRespons(df_train_raw,v1,v2)\n",
    "df_test = BinaryRespons(df_test_raw,v1,v2)"
   ]
  },
  {
   "cell_type": "code",
   "execution_count": 23,
   "metadata": {
    "collapsed": true
   },
   "outputs": [],
   "source": [
    "# For developing\n",
    "\n",
    "df_train = DevelopData(df_train,100)\n",
    "df_test = DevelopData(df_test,20)"
   ]
  },
  {
   "cell_type": "code",
   "execution_count": 24,
   "metadata": {
    "collapsed": true
   },
   "outputs": [],
   "source": [
    "df_train.labs = df_train.labs.astype('int64')\n",
    "df_test.labs = df_test.labs.astype('int64')\n",
    "\n",
    "df_train, df_validation = ValidationSplit(df_train, 0.8)\n",
    "\n",
    "x, y = label_split(df_train)"
   ]
  },
  {
   "cell_type": "code",
   "execution_count": 25,
   "metadata": {
    "collapsed": true
   },
   "outputs": [],
   "source": [
    "k_list = [i*2 + 1 for i in range(17)]\n",
    "pred_list_val = []\n",
    "\n",
    "for k in k_list:\n",
    "    df_validation['prediction'] = df_validation.apply(lambda prediction: kNearestClassifier(x,y,[prediction[i] for i in df_validation.columns if i not in ['labs', 'prediction']], k=k),axis=1)\n",
    "    pred_list_val.append(evaluation_kNearest(df_validation))"
   ]
  },
  {
   "cell_type": "code",
   "execution_count": 26,
   "metadata": {
    "collapsed": true
   },
   "outputs": [],
   "source": [
    "pred_list_test = []\n",
    "\n",
    "for k in k_list:\n",
    "    df_test['prediction'] = df_test.apply(lambda prediction: kNearestClassifier(x,y,[prediction[i] for i in df_test.columns if i not in ['labs', 'prediction']], k=k),axis=1)\n",
    "    pred_list_test.append(evaluation_kNearest(df_test))"
   ]
  },
  {
   "cell_type": "code",
   "execution_count": 27,
   "metadata": {
    "collapsed": true
   },
   "outputs": [],
   "source": [
    "k_optimal_val, error_k_optimal_val = OptimalK(k_list, pred_list_val)\n",
    "k_optimal_test, error_k_optimal_test = OptimalK(k_list, pred_list_test)"
   ]
  },
  {
   "cell_type": "code",
   "execution_count": 28,
   "metadata": {},
   "outputs": [
    {
     "data": {
      "image/png": "[encoded data removed]",
      "text/plain": [
       "<matplotlib.figure.Figure at 0x106e20898>"
      ]
     },
     "metadata": {},
     "output_type": "display_data"
    }
   ],
   "source": [
    "f, (ax1) = plt.subplots(1, 1)\n",
    "\n",
    "ax1.plot(k_list, pred_list_val,label='error validation')\n",
    "ax1.plot(k_list, pred_list_test,label='error test')\n",
    "\n",
    "ax1.set_xlabel('K')\n",
    "ax1.set_ylabel('error')\n",
    "\n",
    "ax1.set_title('Plot of validation and test error classification of {}/{}'.format(v1, v2))\n",
    "\n",
    "ax1.legend()\n",
    "plt.savefig('figs/classification{}{}.png'.format(v1, v2))"
   ]
  },
  {
   "cell_type": "code",
   "execution_count": 29,
   "metadata": {},
   "outputs": [
    {
     "name": "stdout",
     "output_type": "stream",
     "text": [
      "optimal K - validation:  17 error of optimal K - validation:  0.0\n",
      "optimal K - test:  1 error of optimal K - test:  0.05\n"
     ]
    }
   ],
   "source": [
    "print('optimal K - validation: ', k_optimal_val, 'error of optimal K - validation: ',error_k_optimal_val)\n",
    "print('optimal K - test: ', k_optimal_test, 'error of optimal K - test: ',error_k_optimal_test)"
   ]
  },
  {
   "cell_type": "markdown",
   "metadata": {},
   "source": [
    "#Linear Regression\n",
    "\n"
   ]
  }
 ],
 "metadata": {
  "kernelspec": {
   "display_name": "Python 3",
   "language": "python",
   "name": "python3"
  },
  "language_info": {
   "codemirror_mode": {
    "name": "ipython",
    "version": 3
   },
   "file_extension": ".py",
   "mimetype": "text/x-python",
   "name": "python",
   "nbconvert_exporter": "python",
   "pygments_lexer": "ipython3",
   "version": "3.6.3"
  }
 },
 "nbformat": 4,
 "nbformat_minor": 2
}
