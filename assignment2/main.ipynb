{
 "cells": [
  {
   "cell_type": "code",
   "execution_count": 12,
   "metadata": {},
   "outputs": [],
   "source": [
    "import numpy as np\n",
    "import pandas as pd\n",
    "import matplotlib.pyplot as plt\n",
    "\n",
    "from modules import coin_simulation, plot_bins \n",
    "from modules import hoeffdingsbound, markovsbound\n",
    "\n",
    "np.random.seed(2017)\n",
    "%matplotlib inline"
   ]
  },
  {
   "cell_type": "markdown",
   "metadata": {},
   "source": [
    "# Exercise 1"
   ]
  },
  {
   "cell_type": "code",
   "execution_count": 2,
   "metadata": {
    "collapsed": true
   },
   "outputs": [],
   "source": [
    "sim = coin_simulation() # simulates 1000000 simulations of 20 coin flips"
   ]
  },
  {
   "cell_type": "code",
   "execution_count": 3,
   "metadata": {},
   "outputs": [],
   "source": [
    "df = pd.DataFrame(data=sim)"
   ]
  },
  {
   "cell_type": "code",
   "execution_count": 4,
   "metadata": {
    "collapsed": true
   },
   "outputs": [],
   "source": [
    "# Creating a dataframe with summary statistics\n",
    "df['empirical_mean'] = df.mean(axis=1) #calculates the empircal mean of all experiments\n",
    "sum_stats = df[[0,'empirical_mean']].groupby('empirical_mean').count().reset_index().rename(columns = {0 : 'freq'})\n",
    "sum_stats['normed_freq'] = sum_stats['freq'] / np.sum(sum_stats['freq'])"
   ]
  },
  {
   "cell_type": "code",
   "execution_count": 5,
   "metadata": {},
   "outputs": [],
   "source": [
    "# Creating Hoefdings Bound and Markovs Bound\n",
    "sum_stats['hoeffding'] = sum_stats.apply(lambda row: hoeffdingsbound(row['empirical_mean']), axis=1)\n",
    "sum_stats['markov'] = sum_stats.apply(lambda row: markovsbound(row['empirical_mean']), axis=1)"
   ]
  },
  {
   "cell_type": "code",
   "execution_count": 6,
   "metadata": {},
   "outputs": [],
   "source": [
    "# for plotting data\n",
    "sum_stats_plot = sum_stats.loc[sum_stats['empirical_mean']>0.5]"
   ]
  },
  {
   "cell_type": "code",
   "execution_count": 13,
   "metadata": {},
   "outputs": [
    {
     "data": {
      "text/plain": [
       "<matplotlib.legend.Legend at 0x116804668>"
      ]
     },
     "execution_count": 13,
     "metadata": {},
     "output_type": "execute_result"
    },
    {
     "data": {
      "image/png": "[encoded data removed]",
      "text/plain": [
       "<matplotlib.figure.Figure at 0x120dc5b70>"
      ]
     },
     "metadata": {},
     "output_type": "display_data"
    }
   ],
   "source": [
    "f, (ax1) = plt.subplots(1, 1)\n",
    "\n",
    "ax1.scatter(sum_stats_plot['empirical_mean'], sum_stats_plot['normed_freq'])\n",
    "ax1.scatter(sum_stats_plot['empirical_mean'], sum_stats_plot['hoeffding'], alpha=0.5)\n",
    "ax1.scatter(sum_stats_plot['empirical_mean'], sum_stats_plot['markov'], alpha=0.4)\n",
    "\n",
    "\n",
    "ax1.set_ylim(0,1)\n",
    "ax1.Sset\n",
    "ax1.set_xlabel('empirical mean / alpha')\n",
    "ax1.set_ylabel('normed frequencies')\n",
    "ax1.legend()"
   ]
  },
  {
   "cell_type": "code",
   "execution_count": 15,
   "metadata": {},
   "outputs": [
    {
     "data": {
      "text/html": [
       "<div>\n",
       "<style>\n",
       "    .dataframe thead tr:only-child th {\n",
       "        text-align: right;\n",
       "    }\n",
       "\n",
       "    .dataframe thead th {\n",
       "        text-align: left;\n",
       "    }\n",
       "\n",
       "    .dataframe tbody tr th {\n",
       "        vertical-align: top;\n",
       "    }\n",
       "</style>\n",
       "<table border=\"1\" class=\"dataframe\">\n",
       "  <thead>\n",
       "    <tr style=\"text-align: right;\">\n",
       "      <th></th>\n",
       "      <th>empirical_mean</th>\n",
       "      <th>freq</th>\n",
       "      <th>normed_freq</th>\n",
       "      <th>hoeffding</th>\n",
       "      <th>markov</th>\n",
       "    </tr>\n",
       "  </thead>\n",
       "  <tbody>\n",
       "    <tr>\n",
       "      <th>0</th>\n",
       "      <td>0.00</td>\n",
       "      <td>2</td>\n",
       "      <td>0.000002</td>\n",
       "      <td>0.000045</td>\n",
       "      <td>NaN</td>\n",
       "    </tr>\n",
       "    <tr>\n",
       "      <th>1</th>\n",
       "      <td>0.05</td>\n",
       "      <td>17</td>\n",
       "      <td>0.000017</td>\n",
       "      <td>0.000304</td>\n",
       "      <td>10.000000</td>\n",
       "    </tr>\n",
       "    <tr>\n",
       "      <th>2</th>\n",
       "      <td>0.10</td>\n",
       "      <td>194</td>\n",
       "      <td>0.000194</td>\n",
       "      <td>0.001662</td>\n",
       "      <td>5.000000</td>\n",
       "    </tr>\n",
       "    <tr>\n",
       "      <th>3</th>\n",
       "      <td>0.15</td>\n",
       "      <td>1087</td>\n",
       "      <td>0.001087</td>\n",
       "      <td>0.007447</td>\n",
       "      <td>3.333333</td>\n",
       "    </tr>\n",
       "    <tr>\n",
       "      <th>4</th>\n",
       "      <td>0.20</td>\n",
       "      <td>4725</td>\n",
       "      <td>0.004725</td>\n",
       "      <td>0.027324</td>\n",
       "      <td>2.500000</td>\n",
       "    </tr>\n",
       "    <tr>\n",
       "      <th>5</th>\n",
       "      <td>0.25</td>\n",
       "      <td>14661</td>\n",
       "      <td>0.014661</td>\n",
       "      <td>0.082085</td>\n",
       "      <td>2.000000</td>\n",
       "    </tr>\n",
       "    <tr>\n",
       "      <th>6</th>\n",
       "      <td>0.30</td>\n",
       "      <td>36967</td>\n",
       "      <td>0.036967</td>\n",
       "      <td>0.201897</td>\n",
       "      <td>1.666667</td>\n",
       "    </tr>\n",
       "    <tr>\n",
       "      <th>7</th>\n",
       "      <td>0.35</td>\n",
       "      <td>73971</td>\n",
       "      <td>0.073971</td>\n",
       "      <td>0.406570</td>\n",
       "      <td>1.428571</td>\n",
       "    </tr>\n",
       "    <tr>\n",
       "      <th>8</th>\n",
       "      <td>0.40</td>\n",
       "      <td>120463</td>\n",
       "      <td>0.120463</td>\n",
       "      <td>0.670320</td>\n",
       "      <td>1.250000</td>\n",
       "    </tr>\n",
       "    <tr>\n",
       "      <th>9</th>\n",
       "      <td>0.45</td>\n",
       "      <td>160356</td>\n",
       "      <td>0.160356</td>\n",
       "      <td>0.904837</td>\n",
       "      <td>1.111111</td>\n",
       "    </tr>\n",
       "    <tr>\n",
       "      <th>10</th>\n",
       "      <td>0.50</td>\n",
       "      <td>175926</td>\n",
       "      <td>0.175926</td>\n",
       "      <td>1.000000</td>\n",
       "      <td>1.000000</td>\n",
       "    </tr>\n",
       "    <tr>\n",
       "      <th>11</th>\n",
       "      <td>0.55</td>\n",
       "      <td>159809</td>\n",
       "      <td>0.159809</td>\n",
       "      <td>0.904837</td>\n",
       "      <td>0.909091</td>\n",
       "    </tr>\n",
       "    <tr>\n",
       "      <th>12</th>\n",
       "      <td>0.60</td>\n",
       "      <td>120222</td>\n",
       "      <td>0.120222</td>\n",
       "      <td>0.670320</td>\n",
       "      <td>0.833333</td>\n",
       "    </tr>\n",
       "    <tr>\n",
       "      <th>13</th>\n",
       "      <td>0.65</td>\n",
       "      <td>73941</td>\n",
       "      <td>0.073941</td>\n",
       "      <td>0.406570</td>\n",
       "      <td>0.769231</td>\n",
       "    </tr>\n",
       "    <tr>\n",
       "      <th>14</th>\n",
       "      <td>0.70</td>\n",
       "      <td>36995</td>\n",
       "      <td>0.036995</td>\n",
       "      <td>0.201897</td>\n",
       "      <td>0.714286</td>\n",
       "    </tr>\n",
       "    <tr>\n",
       "      <th>15</th>\n",
       "      <td>0.75</td>\n",
       "      <td>14754</td>\n",
       "      <td>0.014754</td>\n",
       "      <td>0.082085</td>\n",
       "      <td>0.666667</td>\n",
       "    </tr>\n",
       "    <tr>\n",
       "      <th>16</th>\n",
       "      <td>0.80</td>\n",
       "      <td>4631</td>\n",
       "      <td>0.004631</td>\n",
       "      <td>0.027324</td>\n",
       "      <td>0.625000</td>\n",
       "    </tr>\n",
       "    <tr>\n",
       "      <th>17</th>\n",
       "      <td>0.85</td>\n",
       "      <td>1067</td>\n",
       "      <td>0.001067</td>\n",
       "      <td>0.007447</td>\n",
       "      <td>0.588235</td>\n",
       "    </tr>\n",
       "    <tr>\n",
       "      <th>18</th>\n",
       "      <td>0.90</td>\n",
       "      <td>197</td>\n",
       "      <td>0.000197</td>\n",
       "      <td>0.001662</td>\n",
       "      <td>0.555556</td>\n",
       "    </tr>\n",
       "    <tr>\n",
       "      <th>19</th>\n",
       "      <td>0.95</td>\n",
       "      <td>14</td>\n",
       "      <td>0.000014</td>\n",
       "      <td>0.000304</td>\n",
       "      <td>0.526316</td>\n",
       "    </tr>\n",
       "    <tr>\n",
       "      <th>20</th>\n",
       "      <td>1.00</td>\n",
       "      <td>1</td>\n",
       "      <td>0.000001</td>\n",
       "      <td>0.000045</td>\n",
       "      <td>0.500000</td>\n",
       "    </tr>\n",
       "  </tbody>\n",
       "</table>\n",
       "</div>"
      ],
      "text/plain": [
       "    empirical_mean    freq  normed_freq  hoeffding     markov\n",
       "0             0.00       2     0.000002   0.000045        NaN\n",
       "1             0.05      17     0.000017   0.000304  10.000000\n",
       "2             0.10     194     0.000194   0.001662   5.000000\n",
       "3             0.15    1087     0.001087   0.007447   3.333333\n",
       "4             0.20    4725     0.004725   0.027324   2.500000\n",
       "5             0.25   14661     0.014661   0.082085   2.000000\n",
       "6             0.30   36967     0.036967   0.201897   1.666667\n",
       "7             0.35   73971     0.073971   0.406570   1.428571\n",
       "8             0.40  120463     0.120463   0.670320   1.250000\n",
       "9             0.45  160356     0.160356   0.904837   1.111111\n",
       "10            0.50  175926     0.175926   1.000000   1.000000\n",
       "11            0.55  159809     0.159809   0.904837   0.909091\n",
       "12            0.60  120222     0.120222   0.670320   0.833333\n",
       "13            0.65   73941     0.073941   0.406570   0.769231\n",
       "14            0.70   36995     0.036995   0.201897   0.714286\n",
       "15            0.75   14754     0.014754   0.082085   0.666667\n",
       "16            0.80    4631     0.004631   0.027324   0.625000\n",
       "17            0.85    1067     0.001067   0.007447   0.588235\n",
       "18            0.90     197     0.000197   0.001662   0.555556\n",
       "19            0.95      14     0.000014   0.000304   0.526316\n",
       "20            1.00       1     0.000001   0.000045   0.500000"
      ]
     },
     "execution_count": 15,
     "metadata": {},
     "output_type": "execute_result"
    }
   ],
   "source": [
    "sum_stats"
   ]
  },
  {
   "cell_type": "code",
   "execution_count": null,
   "metadata": {
    "collapsed": true
   },
   "outputs": [],
   "source": []
  }
 ],
 "metadata": {
  "kernelspec": {
   "display_name": "Python 3",
   "language": "python",
   "name": "python3"
  },
  "language_info": {
   "codemirror_mode": {
    "name": "ipython",
    "version": 3
   },
   "file_extension": ".py",
   "mimetype": "text/x-python",
   "name": "python",
   "nbconvert_exporter": "python",
   "pygments_lexer": "ipython3",
   "version": "3.6.3"
  }
 },
 "nbformat": 4,
 "nbformat_minor": 2
}
